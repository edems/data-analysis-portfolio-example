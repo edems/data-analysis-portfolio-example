{
 "cells": [
  {
   "cell_type": "code",
   "execution_count": null,
   "metadata": {},
   "outputs": [],
   "source": [
    "import pandas as pd\n",
    "import matplotlib.pyplot as plt\n",
    "import seaborn as sns\n",
    "\n",
    "# Stil für professionelles Aussehen\n",
    "plt.style.use('seaborn-v0_8-darkgrid')  # Aktualisierter Stilname\n",
    "sns.set_context(\"talk\")  # Größere Schrift für Lesbarkeit"
   ]
  },
  {
   "cell_type": "code",
   "execution_count": null,
   "metadata": {},
   "outputs": [],
   "source": [
    "df = pd.read_csv(\"../data/sales_data.csv\")\n",
    "df[\"Date\"] = pd.to_datetime(df[\"Date\"])\n",
    "df.head()"
   ]
  },
  {
   "cell_type": "code",
   "execution_count": null,
   "metadata": {},
   "outputs": [],
   "source": [
    "sales_by_date = df.groupby(\"Date\")[\"Revenue\"].sum().reset_index()\n",
    "plt.figure(figsize=(10, 6))\n",
    "plt.plot(sales_by_date[\"Date\"], sales_by_date[\"Revenue\"], color=\"blue\")\n",
    "plt.title(\"Verkaufstrends Q1 2023\")\n",
    "plt.xlabel(\"Datum\")\n",
    "plt.ylabel(\"Umsatz (CHF)\")\n",
    "plt.savefig(\"../visualizations/sales_trends.png\")\n",
    "plt.show()"
   ]
  },
  {
   "cell_type": "code",
   "execution_count": null,
   "metadata": {},
   "outputs": [],
   "source": [
    "plt.figure(figsize=(8, 5))\n",
    "sns.barplot(x=\"Region\", y=\"Revenue\", hue=\"Category\", data=df, estimator=sum)\n",
    "plt.title(\"Umsatz nach Region und Kategorie\")\n",
    "plt.ylabel(\"Umsatz (CHF)\")\n",
    "plt.savefig(\"../visualizations/revenue_by_region.png\")\n",
    "plt.show()"
   ]
  }
 ],
 "metadata": {
  "kernelspec": {
   "display_name": "venv",
   "language": "python",
   "name": "python3"
  },
  "language_info": {
   "codemirror_mode": {
    "name": "ipython",
    "version": 3
   },
   "file_extension": ".py",
   "mimetype": "text/x-python",
   "name": "python",
   "nbconvert_exporter": "python",
   "pygments_lexer": "ipython3",
   "version": "3.12.4"
  }
 },
 "nbformat": 4,
 "nbformat_minor": 2
}
